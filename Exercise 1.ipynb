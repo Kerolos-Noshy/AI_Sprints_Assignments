{
  "cells": [
    {
      "cell_type": "markdown",
      "metadata": {
        "id": "rf2QiIhYAaMi"
      },
      "source": [
        "# Python Crash Course"
      ]
    },
    {
      "cell_type": "markdown",
      "metadata": {
        "id": "VVU7zhwENEZZ"
      },
      "source": [
        "## Excercise 1\n",
        "Try answering the following questions to gauge your understanding:"
      ]
    },
    {
      "cell_type": "markdown",
      "metadata": {
        "id": "mTSD90KSCp-g"
      },
      "source": [
        "**1 -** Given the variables:"
      ]
    },
    {
      "cell_type": "code",
      "execution_count": 1,
      "metadata": {
        "id": "GYQp_5UuCpmc"
      },
      "outputs": [],
      "source": [
        "planet = \"Earth\"\n",
        "diameter = 12742"
      ]
    },
    {
      "cell_type": "markdown",
      "metadata": {
        "id": "nGWKKpcDChKA"
      },
      "source": [
        "Use `.format()` to print the following string:\n",
        "\n",
        "The diameter of Earth is 12742 kilometers."
      ]
    },
    {
      "cell_type": "code",
      "execution_count": 2,
      "metadata": {
        "id": "aIXG_y2bB3kP"
      },
      "outputs": [
        {
          "name": "stdout",
          "output_type": "stream",
          "text": [
            "The diameter of Earth is 12742 kilometers.\n"
          ]
        }
      ],
      "source": [
        "print(\"The diameter of {} is {} kilometers.\".format(planet, diameter))"
      ]
    },
    {
      "cell_type": "markdown",
      "metadata": {
        "id": "jeiSxsFVDe69"
      },
      "source": [
        "**2 -** Given this nested dictionary grab the word \"hello\". Be prepared, this will be annoying/tricky"
      ]
    },
    {
      "cell_type": "code",
      "execution_count": 3,
      "metadata": {
        "id": "uWuRX6PgDizF"
      },
      "outputs": [],
      "source": [
        "d = {'k1':[1,2,3,{'tricky':['oh','man','inception',{'target':[1,2,3,'hello']}]}]}"
      ]
    },
    {
      "cell_type": "code",
      "execution_count": 4,
      "metadata": {
        "id": "C-t4fis0DjfB"
      },
      "outputs": [
        {
          "name": "stdout",
          "output_type": "stream",
          "text": [
            "hello\n"
          ]
        }
      ],
      "source": [
        "print(d['k1'][3]['tricky'][3]['target'][3])"
      ]
    },
    {
      "cell_type": "markdown",
      "metadata": {
        "id": "sRrYqg8FEHwf"
      },
      "source": [
        "**3 -** Use lambda expressions and the filter() function to filter out words from a list that don't start with the letter 's'. For example:\n",
        "\n",
        "`seq = ['soup','dog','salad','cat','great']`\n",
        "\n",
        "should be filtered down to:\n",
        "\n",
        "`['soup','salad']`"
      ]
    },
    {
      "cell_type": "code",
      "execution_count": 5,
      "metadata": {
        "id": "oaQFt7pDEMnz"
      },
      "outputs": [],
      "source": [
        "seq = ['soup','dog','salad','cat','great']"
      ]
    },
    {
      "cell_type": "code",
      "execution_count": 6,
      "metadata": {
        "id": "BLiEyI-1ENg0"
      },
      "outputs": [
        {
          "name": "stdout",
          "output_type": "stream",
          "text": [
            "['soup', 'salad']\n"
          ]
        }
      ],
      "source": [
        "new_seq = list(filter(lambda x: (x.startswith('s')), seq))\n",
        "print(new_seq)"
      ]
    },
    {
      "cell_type": "markdown",
      "metadata": {
        "id": "JD-_SxlVF1UG"
      },
      "source": [
        "**4 -**  You are driving a little too fast, and a police officer stops you. Write a **function** to return one of 3 possible results: \"`No ticket`\", \"`Small ticket`\", or \"`Big Ticket`\". If your speed is 60 or less, the result is \"`No Ticket`\". If speed is between 61 and 80 inclusive, the result is \"`Small Ticket`\". If speed is 81 or more, the result is \"`Big Ticket`\". Unless it is your birthday (encoded as a boolean value in the parameters of the function) -- on your birthday, your speed can be 5 higher in all cases."
      ]
    },
    {
      "cell_type": "code",
      "execution_count": 7,
      "metadata": {
        "id": "0cgrPLMnGNso"
      },
      "outputs": [],
      "source": [
        "# Write your solution here\n",
        "def caught_speeding(speed, is_birthday):\n",
        "    \n",
        "    your_speed = 60\n",
        "    if is_birthday:\n",
        "        your_speed = 65\n",
        "    if speed <= your_speed: \n",
        "        return 'No Ticket'\n",
        "    elif speed >= your_speed + 1 and speed <= your_speed + 20:\n",
        "        return 'Small Ticket'\n",
        "    else:\n",
        "        return 'Big Ticket'"
      ]
    },
    {
      "cell_type": "code",
      "execution_count": 8,
      "metadata": {
        "colab": {
          "base_uri": "https://localhost:8080/",
          "height": 35
        },
        "id": "wYTUt9_-Goqf",
        "outputId": "6bc40a7c-17a5-4ec8-8d75-9aebcf477cf5"
      },
      "outputs": [
        {
          "name": "stdout",
          "output_type": "stream",
          "text": [
            "No Ticket\n",
            "Small Ticket\n"
          ]
        }
      ],
      "source": [
        "# Would you like to check your function here to see if it is performing as we wanted?\n",
        "print(caught_speeding(61,True))\n",
        "print(caught_speeding(81,True))"
      ]
    },
    {
      "cell_type": "markdown",
      "metadata": {
        "id": "VvGX4vk8H4eF"
      },
      "source": [
        "**5-** Write a Python program to returns sum of all divisors of a number.\n",
        "\n",
        "If number = 8\n",
        "\n",
        "If number = 12\n",
        "\n",
        "Expected Output:\n",
        "\n",
        "7\n",
        "\n",
        "16"
      ]
    },
    {
      "cell_type": "code",
      "execution_count": 9,
      "metadata": {
        "id": "u8iVC5OjIEtY"
      },
      "outputs": [
        {
          "name": "stdout",
          "output_type": "stream",
          "text": [
            "7\n",
            "16\n"
          ]
        }
      ],
      "source": [
        "def sum_divisors(n):\n",
        "    summation = 0\n",
        "    for i in range(1, n-1):\n",
        "        if n % i == 0:\n",
        "            summation += i\n",
        "    return summation\n",
        "\n",
        "\n",
        "print(sum_divisors(8))\n",
        "print(sum_divisors(12))"
      ]
    },
    {
      "cell_type": "markdown",
      "metadata": {
        "id": "FwXMUngvI7fY"
      },
      "source": [
        "**6-** Sometimes, while working with Python Matrix, we can have a problem in which we need to perform grouping of all the elements with are same. This kind of problem can have application in data domains. Let’s discuss certain ways in which this task can be performed.\n",
        "\n",
        "Input : test_list = [1, 3, 4, 4, 2, 3]\n",
        "\n",
        "Output : [[1], [2], [3, 3], [4, 4]]\n",
        "\n",
        "Input : test_list = [1, 3, 4, 2]\n",
        "\n",
        "Output : [[1], [2], [3], [4]]"
      ]
    },
    {
      "cell_type": "code",
      "execution_count": 10,
      "metadata": {
        "id": "Rqw4EcgAJCOp"
      },
      "outputs": [
        {
          "name": "stdout",
          "output_type": "stream",
          "text": [
            "[[1], [2], [3, 3], [4, 4]]\n",
            "[[1], [2], [3], [4]]\n"
          ]
        }
      ],
      "source": [
        "def myfunc(test_list):\n",
        "    arr = []\n",
        "    dict_ =dict()\n",
        "    for ele in sorted(test_list):\n",
        "        if ele not in dict_:\n",
        "            dict_[ele] = [ele]\n",
        "        else:\n",
        "            dict_[ele] =  dict_[ele] + [ele]\n",
        "            \n",
        "    for key in dict_.keys():\n",
        "        arr += [dict_[key]]\n",
        "    return arr\n",
        "\n",
        "\n",
        "print(myfunc([1, 3, 4, 4, 2, 3]))\n",
        "print(myfunc([1, 3, 4, 2]))\n"
      ]
    },
    {
      "cell_type": "markdown",
      "metadata": {
        "id": "fpVTQuGyJF6_"
      },
      "source": [
        "**7-** Given two lists a, b. Check if two lists have at least one element common in them.\n",
        "\n",
        "Input : a = [1, 2, 3, 4, 5]\n",
        "        b = [5, 6, 7, 8, 9]\n",
        "\n",
        "Output : True\n",
        "\n",
        "Input : a=[1, 2, 3, 4, 5]\n",
        "        b=[6, 7, 8, 9]\n",
        "\n",
        "Output : False"
      ]
    },
    {
      "cell_type": "code",
      "execution_count": 11,
      "metadata": {
        "id": "c8MEzgRYJnLm"
      },
      "outputs": [
        {
          "name": "stdout",
          "output_type": "stream",
          "text": [
            "True\n",
            "False\n"
          ]
        }
      ],
      "source": [
        "def check_common(a, b):\n",
        "    for i in a:\n",
        "        for j in b:\n",
        "            if i == j:\n",
        "                print('True')\n",
        "                return\n",
        "    print('False')\n",
        "\n",
        "\n",
        "a = [1, 2, 3, 4, 5]\n",
        "b = [5, 6, 7, 8, 9]\n",
        "\n",
        "check_common(a, b)\n",
        "\n",
        "a=[1, 2, 3, 4, 5]\n",
        "b=[6, 7, 8, 9]\n",
        "\n",
        "check_common(a, b)\n",
        "    "
      ]
    },
    {
      "cell_type": "markdown",
      "metadata": {
        "id": "n54onJZLFIEb"
      },
      "source": [
        "**Great work!!**\n",
        "\n",
        "**Acknowledgements:** Bin Gu, Justin Johnson, Volodymyr Kuleshov, Salman Khan, Jose Portilla, Isaac Caswell."
      ]
    },
    {
      "cell_type": "markdown",
      "metadata": {
        "id": "k6WVAPyOFb0G"
      },
      "source": [
        "\n",
        "\n",
        "---\n",
        "\n"
      ]
    }
  ],
  "metadata": {
    "colab": {
      "collapsed_sections": [
        "N3VPSFezjMNT",
        "B7WpC3Wtjgu0",
        "UQnQWFEyL9fP",
        "p9DSqUFdkEFR",
        "pWd2xKZNXQHQ",
        "hbC0UG3rXQHV",
        "oyKm00fAXQHV",
        "2PjRgbKZXQHX",
        "rbUoHU7iXQHX",
        "UXtYHIH8XQHY",
        "foeuldDiXQHY",
        "DBzjV2ZEXQHZ",
        "7uZd9icFXQHZ",
        "ObA9PRtQL9hT",
        "qlL3_YK_Tg7-",
        "A9gXw-xeRUG4",
        "_ydy8MRlXUAK",
        "dTntqTK7dG9S",
        "1akBNeUozLOk",
        "-yeR6ULdzGRx",
        "HbESGMTHfDMp",
        "RGKhU8seyy9w",
        "IBYPOOs_feCc",
        "wZuZLeOMyeED",
        "7rip0rpvgTOF",
        "SoLX6_TCx1Td",
        "wxdiNhP3ggbU",
        "t1aLXuO010vX",
        "D_CshuRmgt1U"
      ],
      "name": "Python_Crash_Course_Students.ipynb",
      "provenance": []
    },
    "kernelspec": {
      "display_name": "Python 3.9.12 ('base')",
      "language": "python",
      "name": "python3"
    },
    "language_info": {
      "codemirror_mode": {
        "name": "ipython",
        "version": 3
      },
      "file_extension": ".py",
      "mimetype": "text/x-python",
      "name": "python",
      "nbconvert_exporter": "python",
      "pygments_lexer": "ipython3",
      "version": "3.9.12"
    },
    "vscode": {
      "interpreter": {
        "hash": "b57d2e1c31f7300b027b1154729c4f33a19579191bdba39adf23b26489f1f431"
      }
    }
  },
  "nbformat": 4,
  "nbformat_minor": 0
}
